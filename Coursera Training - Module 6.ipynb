{
 "cells": [
  {
   "cell_type": "code",
   "execution_count": null,
   "id": "1b38227b",
   "metadata": {},
   "outputs": [],
   "source": []
  }
 ],
 "metadata": {
  "language_info": {
   "name": "python"
  }
 },
 "nbformat": 4,
 "nbformat_minor": 5
}
