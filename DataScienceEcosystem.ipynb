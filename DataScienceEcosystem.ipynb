{
 "cells": [
  {
   "cell_type": "markdown",
   "id": "6f49bc95",
   "metadata": {},
   "source": [
    "Title of Notebook, \"Data Science Tools and Ecosystem\""
   ]
  },
  {
   "cell_type": "markdown",
   "id": "11c3aebf",
   "metadata": {},
   "source": [
    "Introduction: In this notebook, Data Science Tools and Ecosystem are summarized."
   ]
  },
  {
   "cell_type": "markdown",
   "id": "4eec518d",
   "metadata": {},
   "source": [
    "Some of the popular languages that Data Scientists use are:\n",
    "1) Python  \n",
    "2) R  \n",
    "3) SQL  \n",
    "4) Julia  \n",
    "5) Scala  \n"
   ]
  },
  {
   "cell_type": "markdown",
   "id": "49f3ae68",
   "metadata": {},
   "source": [
    "Some of the commonly used libraries used by Data Scientists include:\n",
    "1) Pandas  \n",
    "2) NumPy  \n",
    "3) Matplotlib  \n",
    "4) Scikit-learn  \n",
    "5) TensorFlow  \n"
   ]
  },
  {
   "cell_type": "markdown",
   "id": "0db6d4a6",
   "metadata": {},
   "source": [
    "Below are a few examples of evaluating arithmetic expressions in Python\n"
   ]
  },
  {
   "cell_type": "code",
   "execution_count": 1,
   "id": "d02f41b2",
   "metadata": {},
   "outputs": [
    {
     "name": "stdout",
     "output_type": "stream",
     "text": [
      "Multiplication: 35\n",
      "Addition: 12\n"
     ]
    }
   ],
   "source": [
    "# Multiply and add numbers\n",
    "a = 5 * 7\n",
    "b = 5 + 7\n",
    "print(\"Multiplication:\", a)\n",
    "print(\"Addition:\", b)\n"
   ]
  },
  {
   "cell_type": "code",
   "execution_count": 2,
   "id": "9a1947ba",
   "metadata": {},
   "outputs": [
    {
     "name": "stdout",
     "output_type": "stream",
     "text": [
      "150 minutes is equal to 2.5 hours\n"
     ]
    }
   ],
   "source": [
    "# Convert minutes to hours\n",
    "minutes = 150\n",
    "hours = minutes / 60\n",
    "print(minutes, \"minutes is equal to\", hours, \"hours\")\n"
   ]
  },
  {
   "cell_type": "markdown",
   "id": "ab237370",
   "metadata": {},
   "source": [
    "Objectives\n",
    "- Learn data science languages  \n",
    "- Understand common libraries  \n",
    "- Explore tools for analysis  \n",
    "- Perform simple arithmetic operations in Python  \n"
   ]
  },
  {
   "cell_type": "markdown",
   "id": "8696b96d",
   "metadata": {},
   "source": [
    "Author\n",
    "Armand B.\n"
   ]
  },
  {
   "cell_type": "code",
   "execution_count": null,
   "id": "28e40905",
   "metadata": {},
   "outputs": [],
   "source": [
    "https://github.com/abrownatx/IBM-Certificate---Coursera.git"
   ]
  }
 ],
 "metadata": {
  "kernelspec": {
   "display_name": "base",
   "language": "python",
   "name": "python3"
  },
  "language_info": {
   "codemirror_mode": {
    "name": "ipython",
    "version": 3
   },
   "file_extension": ".py",
   "mimetype": "text/x-python",
   "name": "python",
   "nbconvert_exporter": "python",
   "pygments_lexer": "ipython3",
   "version": "3.11.5"
  }
 },
 "nbformat": 4,
 "nbformat_minor": 5
}
